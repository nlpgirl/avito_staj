{
  "cells": [
    {
      "cell_type": "markdown",
      "source": [
        "# Реализация алгоритма восстановления пропущенных пробелов в тексте\n"
      ],
      "metadata": {
        "id": "ahftCBu1K2QO"
      },
      "id": "ahftCBu1K2QO"
    },
    {
      "cell_type": "markdown",
      "source": [
        "## Используемые данные\n",
        "Был взят список 100000 самых употребляемых русских слов с GitHub репозитория: https://github.com/hingston/russian\n",
        "\n",
        "Этот словарь содержит лемматизированные формы слов, отсортированные по убыванию частоты употребления в русском языке.\n",
        "\n",
        "## Алгоритм\n",
        "\n",
        "Применяется динамическое программирование с применением вероятностной модели на основе частотности слов. Основная гипотеза: наиболее вероятное разбиение текста на слова соответствует последовательности, где сумма логарифмических вероятностей слов максимальна.\n",
        "\n",
        "Работа алгоритма:\n",
        "\n",
        "1. Рекурсивный перебор всех возможных разбиений\n",
        "2. Морфологический анализ с помощью pymorphy3\n",
        "3. Оценка вариантов по вероятностной модели\n",
        "4. Мемоизация для оптимизации"
      ],
      "metadata": {
        "id": "TqoeSMrqLFRl"
      },
      "id": "TqoeSMrqLFRl"
    },
    {
      "cell_type": "code",
      "execution_count": null,
      "id": "bb13c49d-8ff7-4e2c-8df2-acc2540db355",
      "metadata": {
        "id": "bb13c49d-8ff7-4e2c-8df2-acc2540db355",
        "outputId": "ce155ede-d7da-455b-b4f6-b7d221064d6a"
      },
      "outputs": [
        {
          "name": "stdout",
          "output_type": "stream",
          "text": [
            "Requirement already satisfied: pymorphy3 in /home/aigul/myenv/lib/python3.11/site-packages (2.0.4)\n",
            "Requirement already satisfied: dawg2-python>=0.8.0 in /home/aigul/myenv/lib/python3.11/site-packages (from pymorphy3) (0.9.0)\n",
            "Requirement already satisfied: pymorphy3-dicts-ru in /home/aigul/myenv/lib/python3.11/site-packages (from pymorphy3) (2.4.417150.4580142)\n",
            "\n",
            "\u001b[1m[\u001b[0m\u001b[34;49mnotice\u001b[0m\u001b[1;39;49m]\u001b[0m\u001b[39;49m A new release of pip is available: \u001b[0m\u001b[31;49m24.0\u001b[0m\u001b[39;49m -> \u001b[0m\u001b[32;49m25.2\u001b[0m\n",
            "\u001b[1m[\u001b[0m\u001b[34;49mnotice\u001b[0m\u001b[1;39;49m]\u001b[0m\u001b[39;49m To update, run: \u001b[0m\u001b[32;49mpip install --upgrade pip\u001b[0m\n",
            "Note: you may need to restart the kernel to use updated packages.\n"
          ]
        }
      ],
      "source": [
        "%pip install pymorphy3"
      ]
    },
    {
      "cell_type": "code",
      "execution_count": null,
      "id": "96253eb3-2438-4d08-b0b5-036bed2a1446",
      "metadata": {
        "id": "96253eb3-2438-4d08-b0b5-036bed2a1446"
      },
      "outputs": [],
      "source": [
        "import pymorphy3\n",
        "morph = pymorphy3.MorphAnalyzer()\n",
        "\n",
        "from collections import defaultdict, OrderedDict\n",
        "import math\n",
        "\n",
        "def load_unigrams_from_list(path, method=\"zipf\", s=1.0, top_n=None, keep_one_letter={\"и\",\"в\",\"с\"}):\n",
        "    \"\"\"\n",
        "    Загружает словарь слов и вычисляет логарифмические вероятности\n",
        "\n",
        "    Параметры:\n",
        "    - path: путь к файлу со словарем\n",
        "    - method: метод распределения частот\n",
        "    - s: параметр для Zipf-распределения\n",
        "    - top_n: ограничение по количеству слов\n",
        "    - keep_one_letter: односимвольные слова, которые не штрафуются\n",
        "    \"\"\"\n",
        "    # читаем список (убираем пустые строки и пробелы)\n",
        "    words = []\n",
        "    with open(path, \"r\", encoding=\"utf-8\") as f:\n",
        "        for line in f:\n",
        "            w = line.strip()\n",
        "            if not w:\n",
        "                continue\n",
        "            words.append(w.lower())\n",
        "    if top_n:\n",
        "        words = words[:top_n]\n",
        "\n",
        "    # создаём ranks (1..N)\n",
        "    N = len(words)\n",
        "    if N == 0:\n",
        "        raise ValueError(\"Empty word list\")\n",
        "\n",
        "    freqs = []\n",
        "    if method == \"zipf\":\n",
        "        # freq_i ~ 1 / rank^s\n",
        "        freqs = [1.0 / ((rank+1) ** s) for rank in range(N)]\n",
        "    elif method == \"linear\":\n",
        "        freqs = [float(N - rank) for rank in range(N)]\n",
        "    elif method == \"uniform\":\n",
        "        freqs = [1.0 for _ in range(N)]\n",
        "    else:\n",
        "        raise ValueError(\"Unknown method\")\n",
        "\n",
        "\n",
        "    adjusted_freqs = []\n",
        "    for w, f in zip(words, freqs):\n",
        "        if len(w) == 1 and w not in keep_one_letter:\n",
        "            f = f / 50.0\n",
        "        adjusted_freqs.append(f)\n",
        "\n",
        "    total = sum(adjusted_freqs)\n",
        "    probs = [f / total for f in adjusted_freqs]\n",
        "    log_probs = {w: math.log(p) for w, p in zip(words, probs)}\n",
        "\n",
        "    min_log = min(log_probs.values())\n",
        "    unknown_log_penalty = min_log - 5.0\n",
        "\n",
        "    return log_probs, unknown_log_penalty\n",
        "\n",
        "\n",
        "\n",
        "from functools import lru_cache\n",
        "\n",
        "\n",
        "#Разбивает текст на слова с помощью динамического программирования\n",
        "def word_segmentation(text, word_probs, unknown_penalty, max_word_len=15, length_bonus_coef=1000):\n",
        "    text = text.lower()\n",
        "\n",
        "    @lru_cache(maxsize=None)\n",
        "    def segment(i):\n",
        "        if i == len(text):\n",
        "            return 0.0, []\n",
        "        best_score, best_split = float(\"-inf\"), None\n",
        "        for j in range(i + 1, min(len(text)+1, i + max_word_len + 1)):\n",
        "            word = text[i:j]\n",
        "            lemma = morph.parse(word)[0].normal_form\n",
        "            score = word_log_probs.get(word, word_log_probs.get(lemma, unknown_log_penalty))\n",
        "            rest_score, rest_split = segment(j)\n",
        "            total_score = score + rest_score + length_bonus_coef * len(word)\n",
        "            if total_score > best_score:\n",
        "                best_score = total_score\n",
        "                if j < len(text):\n",
        "                    best_split = [j] + rest_split\n",
        "                else:\n",
        "                    best_split = rest_split\n",
        "        return best_score, best_split\n",
        "\n",
        "    return segment(0)[1]\n"
      ]
    },
    {
      "cell_type": "code",
      "execution_count": null,
      "id": "6a670976-8778-476d-ae9c-44dc2650391e",
      "metadata": {
        "id": "6a670976-8778-476d-ae9c-44dc2650391e"
      },
      "outputs": [],
      "source": [
        "filename = \"100000-russian-words.txt\"\n",
        "word_log_probs, unknown_log_penalty = load_unigrams_from_list(filename, method=\"zipf\", s=1.0, top_n=200000)"
      ]
    },
    {
      "cell_type": "code",
      "execution_count": null,
      "id": "05c0ba32-ae93-4635-9305-5b3eb5cc9044",
      "metadata": {
        "id": "05c0ba32-ae93-4635-9305-5b3eb5cc9044",
        "outputId": "01b30465-5bdd-48b8-aeba-f48864812be7"
      },
      "outputs": [
        {
          "name": "stdout",
          "output_type": "stream",
          "text": [
            "  id                 text_no_spaces\n",
            "0  0                куплюайфон14про\n",
            "1  1             ищудомвПодмосковье\n",
            "2  2  сдаюквартирусмебельюитехникой\n",
            "3  3     новыйдивандоставканедорого\n",
            "4  4                отдамдаромкошку\n"
          ]
        }
      ],
      "source": [
        "rows = []\n",
        "with open(\"dataset_1937770_3.txt\", \"r\", encoding=\"utf-8\") as f:\n",
        "    next(f)\n",
        "    for line in f:\n",
        "        line = line.strip()\n",
        "        if not line:\n",
        "            continue\n",
        "        id_, text = line.split(\",\", 1)  # делим только по первой запятой\n",
        "        rows.append((id_, text))\n",
        "\n",
        "# создаем DataFrame\n",
        "df = pd.DataFrame(rows, columns=[\"id\", \"text_no_spaces\"])\n",
        "print(df.head())"
      ]
    },
    {
      "cell_type": "code",
      "execution_count": null,
      "id": "529e779b-3eaf-43b8-a152-a1dd3b63d791",
      "metadata": {
        "id": "529e779b-3eaf-43b8-a152-a1dd3b63d791",
        "outputId": "55fb6311-e5c5-4db9-afec-191fd9dabeaf"
      },
      "outputs": [
        {
          "data": {
            "text/html": [
              "<div>\n",
              "<style scoped>\n",
              "    .dataframe tbody tr th:only-of-type {\n",
              "        vertical-align: middle;\n",
              "    }\n",
              "\n",
              "    .dataframe tbody tr th {\n",
              "        vertical-align: top;\n",
              "    }\n",
              "\n",
              "    .dataframe thead th {\n",
              "        text-align: right;\n",
              "    }\n",
              "</style>\n",
              "<table border=\"1\" class=\"dataframe\">\n",
              "  <thead>\n",
              "    <tr style=\"text-align: right;\">\n",
              "      <th></th>\n",
              "      <th>id</th>\n",
              "      <th>text_no_spaces</th>\n",
              "    </tr>\n",
              "  </thead>\n",
              "  <tbody>\n",
              "    <tr>\n",
              "      <th>0</th>\n",
              "      <td>0</td>\n",
              "      <td>куплюайфон14про</td>\n",
              "    </tr>\n",
              "    <tr>\n",
              "      <th>1</th>\n",
              "      <td>1</td>\n",
              "      <td>ищудомвПодмосковье</td>\n",
              "    </tr>\n",
              "    <tr>\n",
              "      <th>2</th>\n",
              "      <td>2</td>\n",
              "      <td>сдаюквартирусмебельюитехникой</td>\n",
              "    </tr>\n",
              "    <tr>\n",
              "      <th>3</th>\n",
              "      <td>3</td>\n",
              "      <td>новыйдивандоставканедорого</td>\n",
              "    </tr>\n",
              "    <tr>\n",
              "      <th>4</th>\n",
              "      <td>4</td>\n",
              "      <td>отдамдаромкошку</td>\n",
              "    </tr>\n",
              "    <tr>\n",
              "      <th>...</th>\n",
              "      <td>...</td>\n",
              "      <td>...</td>\n",
              "    </tr>\n",
              "    <tr>\n",
              "      <th>1000</th>\n",
              "      <td>1000</td>\n",
              "      <td>Янеусну.</td>\n",
              "    </tr>\n",
              "    <tr>\n",
              "      <th>1001</th>\n",
              "      <td>1001</td>\n",
              "      <td>Весна-яуженегреюпио.</td>\n",
              "    </tr>\n",
              "    <tr>\n",
              "      <th>1002</th>\n",
              "      <td>1002</td>\n",
              "      <td>Весна-скоровырастеттрава.</td>\n",
              "    </tr>\n",
              "    <tr>\n",
              "      <th>1003</th>\n",
              "      <td>1003</td>\n",
              "      <td>Весна-выпосмотрите,каккрасиво.</td>\n",
              "    </tr>\n",
              "    <tr>\n",
              "      <th>1004</th>\n",
              "      <td>1004</td>\n",
              "      <td>Весна-гдемояголова?</td>\n",
              "    </tr>\n",
              "  </tbody>\n",
              "</table>\n",
              "<p>1005 rows × 2 columns</p>\n",
              "</div>"
            ],
            "text/plain": [
              "        id                  text_no_spaces\n",
              "0        0                 куплюайфон14про\n",
              "1        1              ищудомвПодмосковье\n",
              "2        2   сдаюквартирусмебельюитехникой\n",
              "3        3      новыйдивандоставканедорого\n",
              "4        4                 отдамдаромкошку\n",
              "...    ...                             ...\n",
              "1000  1000                        Янеусну.\n",
              "1001  1001            Весна-яуженегреюпио.\n",
              "1002  1002       Весна-скоровырастеттрава.\n",
              "1003  1003  Весна-выпосмотрите,каккрасиво.\n",
              "1004  1004             Весна-гдемояголова?\n",
              "\n",
              "[1005 rows x 2 columns]"
            ]
          },
          "execution_count": 9,
          "metadata": {},
          "output_type": "execute_result"
        }
      ],
      "source": [
        "df"
      ]
    },
    {
      "cell_type": "code",
      "execution_count": null,
      "id": "9db22c1b-8086-4e5b-95f8-abcb72b1cc90",
      "metadata": {
        "id": "9db22c1b-8086-4e5b-95f8-abcb72b1cc90"
      },
      "outputs": [],
      "source": [
        "def predict_positions(text):\n",
        "    positions = word_segmentation(text, word_log_probs, unknown_log_penalty)\n",
        "    return str(positions) if positions else \"[]\""
      ]
    },
    {
      "cell_type": "code",
      "execution_count": null,
      "id": "7c99953a-e621-4b78-b308-38319eefabc5",
      "metadata": {
        "id": "7c99953a-e621-4b78-b308-38319eefabc5",
        "outputId": "8b275f6c-4cac-4e89-8783-ca66149688b9"
      },
      "outputs": [
        {
          "name": "stdout",
          "output_type": "stream",
          "text": [
            "    id                 text_no_spaces predicted_positions\n",
            "0    0                куплюайфон14про                  []\n",
            "1    1             ищудомвПодмосковье           [3, 6, 7]\n",
            "2    2  сдаюквартирусмебельюитехникой        [13, 20, 21]\n",
            "3    3     новыйдивандоставканедорого             [5, 20]\n",
            "4    4                отдамдаромкошку                  []\n",
            "5    5          работавМосквеудаленно                 [6]\n",
            "6    6          куплютелевизорPhilips             [5, 14]\n",
            "7    7        ищугрузчиковдляпереезда                [15]\n",
            "8    8           ремонтквартирподключ                 [6]\n",
            "9    9                 куплюноутбукHP                  []\n",
            "10  10              ищуквартирууметро                 [3]\n",
            "11  11      новаямикроволновкаSamsung             [5, 18]\n",
            "12  12          срочнопродамвелосипед             [6, 12]\n",
            "13  13              куплюгитаруFender                 [5]\n",
            "14  14        ищурепетиторапобиологии                [15]\n"
          ]
        },
        {
          "name": "stderr",
          "output_type": "stream",
          "text": [
            "/tmp/ipykernel_12772/940024820.py:5: SettingWithCopyWarning: \n",
            "A value is trying to be set on a copy of a slice from a DataFrame.\n",
            "Try using .loc[row_indexer,col_indexer] = value instead\n",
            "\n",
            "See the caveats in the documentation: https://pandas.pydata.org/pandas-docs/stable/user_guide/indexing.html#returning-a-view-versus-a-copy\n",
            "  subset_df['predicted_positions'] = subset_df['text_no_spaces'].apply(predict_positions)\n"
          ]
        }
      ],
      "source": [
        "subset_df = df.iloc[:15]\n",
        "\n",
        "subset_df['predicted_positions'] = subset_df['text_no_spaces'].apply(predict_positions)\n",
        "print(subset_df)"
      ]
    },
    {
      "cell_type": "code",
      "execution_count": null,
      "id": "ab2e7183-38f2-4579-8cc9-777a0ca54a65",
      "metadata": {
        "id": "ab2e7183-38f2-4579-8cc9-777a0ca54a65",
        "outputId": "2eaefba9-970f-484f-f17d-c435ee13f749"
      },
      "outputs": [
        {
          "name": "stdout",
          "output_type": "stream",
          "text": [
            "Файл submission.csv сохранён!\n"
          ]
        }
      ],
      "source": [
        "df['predicted_positions'] = df['text_no_spaces'].apply(predict_positions)\n",
        "\n",
        "df.to_csv('submission.csv', index=False)\n",
        "print(\"Файл submission.csv сохранён!\")"
      ]
    }
  ],
  "metadata": {
    "kernelspec": {
      "display_name": "Python 3 (ipykernel)",
      "language": "python",
      "name": "python3"
    },
    "language_info": {
      "codemirror_mode": {
        "name": "ipython",
        "version": 3
      },
      "file_extension": ".py",
      "mimetype": "text/x-python",
      "name": "python",
      "nbconvert_exporter": "python",
      "pygments_lexer": "ipython3",
      "version": "3.11.12"
    },
    "colab": {
      "provenance": []
    }
  },
  "nbformat": 4,
  "nbformat_minor": 5
}