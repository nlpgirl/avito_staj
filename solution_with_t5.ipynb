{
  "nbformat": 4,
  "nbformat_minor": 0,
  "metadata": {
    "colab": {
      "provenance": [],
      "gpuType": "T4"
    },
    "kernelspec": {
      "name": "python3",
      "display_name": "Python 3"
    },
    "language_info": {
      "name": "python"
    },
    "accelerator": "GPU"
  },
  "cells": [
    {
      "cell_type": "markdown",
      "source": [
        "# Задача восстановления пропущенных пробелов\n",
        "\n",
        "Для решения использовалась предобученная модель `UrukHan/t5-russian-spell` (https://huggingface.co/UrukHan/t5-russian-spell) из библиотеки Hugging Face. Эта модель основана на архитектуре T5 (Text-to-Text Transfer Transformer) и обучена специально для русского языка на задачах исправления опечаток.\n",
        "\n",
        "Инференс выполнялся локально на GPU NVIDIA T4, доступной в Google Colab. Это обеспечило высокую скорость предсказаний и возможность использования beam search для повышения качества результатов.\n",
        "\n",
        "Настройка модели включала следующие параметры:\n",
        "- `num_beams=5` — используется beam search, чтобы выбирать наиболее вероятный вариант разделения слов\n",
        "- `do_sample=False` — детерминированная генерация без случайного семплирования\n",
        "- `max_length=len(text)*2` — максимальная длина предсказанного текста, чтобы корректно обрабатывать длинные строки\n",
        "- `early_stopping=True` — генерация останавливается, когда модель достигает оптимального результата\n"
      ],
      "metadata": {
        "id": "SYqqOER2WLaA"
      }
    },
    {
      "cell_type": "code",
      "execution_count": 1,
      "metadata": {
        "id": "njdT_zipAcmr"
      },
      "outputs": [],
      "source": [
        "!pip install -q transformers accelerate sentencepiece"
      ]
    },
    {
      "cell_type": "code",
      "source": [
        "from transformers import AutoTokenizer, AutoModelForSeq2SeqLM, pipeline\n",
        "import torch\n",
        "\n",
        "# Загружаем предобученную модель для русского языка, которая умеет исправлять ошибки и вставлять пробелы\n",
        "model_name = \"UrukHan/t5-russian-spell\"\n",
        "tokenizer = AutoTokenizer.from_pretrained(model_name)\n",
        "model = AutoModelForSeq2SeqLM.from_pretrained(model_name).to(\"cuda\" if torch.cuda.is_available() else \"cpu\")\n",
        "\n",
        "pipe = pipeline(\"text2text-generation\", model=model, tokenizer=tokenizer, device=0 if torch.cuda.is_available() else -1)\n",
        "\n",
        "# Функция, которая вставляет пробелы в слитный текст с помощью модели\n",
        "def insert_spaces_spell(text):\n",
        "    prompt = f\"Раздели пробелами следующий текст: {text}.\"\n",
        "    out = pipe(prompt, max_length= len(text)*2, num_beams=5, do_sample=False)[0]\n",
        "    res = out.get('generated_text') or out.get('text') or \"\"\n",
        "    return res.strip()"
      ],
      "metadata": {
        "colab": {
          "base_uri": "https://localhost:8080/",
          "height": 0
        },
        "id": "ZVkg7qQmD477",
        "outputId": "a5c2b21b-ae9f-4bf8-d3c1-3f32b81ac549"
      },
      "execution_count": 72,
      "outputs": [
        {
          "output_type": "stream",
          "name": "stderr",
          "text": [
            "Device set to use cuda:0\n"
          ]
        }
      ]
    },
    {
      "cell_type": "markdown",
      "source": [
        "## Получение позиций пробелов\n",
        "После предсказания текста с пробелами выполняется преобразование в позиции пробелов с помощью функции `spaced_to_positions`, которая проходит по сгенерированному тексту и записывает индекс каждого пробела."
      ],
      "metadata": {
        "id": "qUbGf_cZXUlY"
      }
    },
    {
      "cell_type": "code",
      "source": [
        "# Функция для преобразования текста с пробелами в позиции пропущенных пробелов\n",
        "def spaced_to_positions(orig_no_space, pred_with_spaces):\n",
        "    s0 = str(orig_no_space).replace(\" \", \"\").strip()\n",
        "    pred = str(pred_with_spaces).replace(\" \", \"\").strip()\n",
        "\n",
        "    positions = []\n",
        "    j = 0\n",
        "\n",
        "    for idx, ch in enumerate(pred_with_spaces):\n",
        "        if ch == \" \":\n",
        "            positions.append(j)\n",
        "        else:\n",
        "            j += 1\n",
        "    return positions\n"
      ],
      "metadata": {
        "id": "YbZeBhcYBFOo"
      },
      "execution_count": 68,
      "outputs": []
    },
    {
      "cell_type": "code",
      "source": [
        "# Функция, возвращающая ответ в виде строки\n",
        "def predict_positions(text):\n",
        "    pred = insert_spaces_spell(text)\n",
        "    positions = spaced_to_positions(text, pred)\n",
        "    return str(positions) if positions else \"[]\""
      ],
      "metadata": {
        "id": "v-7eRDR6KyIK"
      },
      "execution_count": 69,
      "outputs": []
    },
    {
      "cell_type": "code",
      "source": [
        "import pandas as pd\n",
        "\n",
        "rows = []\n",
        "# Чтение данных из файла\n",
        "# Чтение производится по строкам, т.к. во втором столбце могут встречаться запятые\n",
        "with open(\"dataset_1937770_3.txt\", \"r\", encoding=\"utf-8\") as f:\n",
        "    next(f)\n",
        "    for line in f:\n",
        "        line = line.strip()\n",
        "        if not line:\n",
        "            continue\n",
        "        id_, text = line.split(\",\", 1)\n",
        "        rows.append((id_, text))\n",
        "\n",
        "\n",
        "df = pd.DataFrame(rows, columns=[\"id\", \"text_no_spaces\"])\n",
        "print(df.head())"
      ],
      "metadata": {
        "colab": {
          "base_uri": "https://localhost:8080/",
          "height": 0
        },
        "id": "yZz8lxqRLuGS",
        "outputId": "444f1e86-d41d-4e2d-ff00-d4c34aec16cc"
      },
      "execution_count": 70,
      "outputs": [
        {
          "output_type": "stream",
          "name": "stdout",
          "text": [
            "  id                 text_no_spaces\n",
            "0  0                куплюайфон14про\n",
            "1  1             ищудомвПодмосковье\n",
            "2  2  сдаюквартирусмебельюитехникой\n",
            "3  3     новыйдивандоставканедорого\n",
            "4  4                отдамдаромкошку\n"
          ]
        }
      ]
    },
    {
      "cell_type": "code",
      "source": [
        "# Пример работы на маленьком подмножестве\n",
        "subset_df = df.iloc[:15].copy()\n",
        "\n",
        "subset_df['predicted_positions'] = subset_df['text_no_spaces'].apply(predict_positions)"
      ],
      "metadata": {
        "id": "YOZsjVo7Kyzz"
      },
      "execution_count": 76,
      "outputs": []
    },
    {
      "cell_type": "code",
      "source": [
        "subset_df.head()"
      ],
      "metadata": {
        "colab": {
          "base_uri": "https://localhost:8080/",
          "height": 206
        },
        "id": "C_M-KMYiMKnb",
        "outputId": "997aa6c3-f58e-40f9-b7b3-3695718db41a"
      },
      "execution_count": 78,
      "outputs": [
        {
          "output_type": "execute_result",
          "data": {
            "text/plain": [
              "  id                 text_no_spaces  predicted_positions\n",
              "0  0                куплюайфон14про                   []\n",
              "1  1             ищудомвПодмосковье            [3, 6, 7]\n",
              "2  2  сдаюквартирусмебельюитехникой  [4, 12, 13, 20, 21]\n",
              "3  3     новыйдивандоставканедорого              [5, 18]\n",
              "4  4                отдамдаромкошку              [5, 10]"
            ],
            "text/html": [
              "\n",
              "  <div id=\"df-a6fb944f-f79d-4633-8c61-1261debd60ec\" class=\"colab-df-container\">\n",
              "    <div>\n",
              "<style scoped>\n",
              "    .dataframe tbody tr th:only-of-type {\n",
              "        vertical-align: middle;\n",
              "    }\n",
              "\n",
              "    .dataframe tbody tr th {\n",
              "        vertical-align: top;\n",
              "    }\n",
              "\n",
              "    .dataframe thead th {\n",
              "        text-align: right;\n",
              "    }\n",
              "</style>\n",
              "<table border=\"1\" class=\"dataframe\">\n",
              "  <thead>\n",
              "    <tr style=\"text-align: right;\">\n",
              "      <th></th>\n",
              "      <th>id</th>\n",
              "      <th>text_no_spaces</th>\n",
              "      <th>predicted_positions</th>\n",
              "    </tr>\n",
              "  </thead>\n",
              "  <tbody>\n",
              "    <tr>\n",
              "      <th>0</th>\n",
              "      <td>0</td>\n",
              "      <td>куплюайфон14про</td>\n",
              "      <td>[]</td>\n",
              "    </tr>\n",
              "    <tr>\n",
              "      <th>1</th>\n",
              "      <td>1</td>\n",
              "      <td>ищудомвПодмосковье</td>\n",
              "      <td>[3, 6, 7]</td>\n",
              "    </tr>\n",
              "    <tr>\n",
              "      <th>2</th>\n",
              "      <td>2</td>\n",
              "      <td>сдаюквартирусмебельюитехникой</td>\n",
              "      <td>[4, 12, 13, 20, 21]</td>\n",
              "    </tr>\n",
              "    <tr>\n",
              "      <th>3</th>\n",
              "      <td>3</td>\n",
              "      <td>новыйдивандоставканедорого</td>\n",
              "      <td>[5, 18]</td>\n",
              "    </tr>\n",
              "    <tr>\n",
              "      <th>4</th>\n",
              "      <td>4</td>\n",
              "      <td>отдамдаромкошку</td>\n",
              "      <td>[5, 10]</td>\n",
              "    </tr>\n",
              "  </tbody>\n",
              "</table>\n",
              "</div>\n",
              "    <div class=\"colab-df-buttons\">\n",
              "\n",
              "  <div class=\"colab-df-container\">\n",
              "    <button class=\"colab-df-convert\" onclick=\"convertToInteractive('df-a6fb944f-f79d-4633-8c61-1261debd60ec')\"\n",
              "            title=\"Convert this dataframe to an interactive table.\"\n",
              "            style=\"display:none;\">\n",
              "\n",
              "  <svg xmlns=\"http://www.w3.org/2000/svg\" height=\"24px\" viewBox=\"0 -960 960 960\">\n",
              "    <path d=\"M120-120v-720h720v720H120Zm60-500h600v-160H180v160Zm220 220h160v-160H400v160Zm0 220h160v-160H400v160ZM180-400h160v-160H180v160Zm440 0h160v-160H620v160ZM180-180h160v-160H180v160Zm440 0h160v-160H620v160Z\"/>\n",
              "  </svg>\n",
              "    </button>\n",
              "\n",
              "  <style>\n",
              "    .colab-df-container {\n",
              "      display:flex;\n",
              "      gap: 12px;\n",
              "    }\n",
              "\n",
              "    .colab-df-convert {\n",
              "      background-color: #E8F0FE;\n",
              "      border: none;\n",
              "      border-radius: 50%;\n",
              "      cursor: pointer;\n",
              "      display: none;\n",
              "      fill: #1967D2;\n",
              "      height: 32px;\n",
              "      padding: 0 0 0 0;\n",
              "      width: 32px;\n",
              "    }\n",
              "\n",
              "    .colab-df-convert:hover {\n",
              "      background-color: #E2EBFA;\n",
              "      box-shadow: 0px 1px 2px rgba(60, 64, 67, 0.3), 0px 1px 3px 1px rgba(60, 64, 67, 0.15);\n",
              "      fill: #174EA6;\n",
              "    }\n",
              "\n",
              "    .colab-df-buttons div {\n",
              "      margin-bottom: 4px;\n",
              "    }\n",
              "\n",
              "    [theme=dark] .colab-df-convert {\n",
              "      background-color: #3B4455;\n",
              "      fill: #D2E3FC;\n",
              "    }\n",
              "\n",
              "    [theme=dark] .colab-df-convert:hover {\n",
              "      background-color: #434B5C;\n",
              "      box-shadow: 0px 1px 3px 1px rgba(0, 0, 0, 0.15);\n",
              "      filter: drop-shadow(0px 1px 2px rgba(0, 0, 0, 0.3));\n",
              "      fill: #FFFFFF;\n",
              "    }\n",
              "  </style>\n",
              "\n",
              "    <script>\n",
              "      const buttonEl =\n",
              "        document.querySelector('#df-a6fb944f-f79d-4633-8c61-1261debd60ec button.colab-df-convert');\n",
              "      buttonEl.style.display =\n",
              "        google.colab.kernel.accessAllowed ? 'block' : 'none';\n",
              "\n",
              "      async function convertToInteractive(key) {\n",
              "        const element = document.querySelector('#df-a6fb944f-f79d-4633-8c61-1261debd60ec');\n",
              "        const dataTable =\n",
              "          await google.colab.kernel.invokeFunction('convertToInteractive',\n",
              "                                                    [key], {});\n",
              "        if (!dataTable) return;\n",
              "\n",
              "        const docLinkHtml = 'Like what you see? Visit the ' +\n",
              "          '<a target=\"_blank\" href=https://colab.research.google.com/notebooks/data_table.ipynb>data table notebook</a>'\n",
              "          + ' to learn more about interactive tables.';\n",
              "        element.innerHTML = '';\n",
              "        dataTable['output_type'] = 'display_data';\n",
              "        await google.colab.output.renderOutput(dataTable, element);\n",
              "        const docLink = document.createElement('div');\n",
              "        docLink.innerHTML = docLinkHtml;\n",
              "        element.appendChild(docLink);\n",
              "      }\n",
              "    </script>\n",
              "  </div>\n",
              "\n",
              "\n",
              "    <div id=\"df-5fbd414b-3251-41dc-b3f6-4d7620dea425\">\n",
              "      <button class=\"colab-df-quickchart\" onclick=\"quickchart('df-5fbd414b-3251-41dc-b3f6-4d7620dea425')\"\n",
              "                title=\"Suggest charts\"\n",
              "                style=\"display:none;\">\n",
              "\n",
              "<svg xmlns=\"http://www.w3.org/2000/svg\" height=\"24px\"viewBox=\"0 0 24 24\"\n",
              "     width=\"24px\">\n",
              "    <g>\n",
              "        <path d=\"M19 3H5c-1.1 0-2 .9-2 2v14c0 1.1.9 2 2 2h14c1.1 0 2-.9 2-2V5c0-1.1-.9-2-2-2zM9 17H7v-7h2v7zm4 0h-2V7h2v10zm4 0h-2v-4h2v4z\"/>\n",
              "    </g>\n",
              "</svg>\n",
              "      </button>\n",
              "\n",
              "<style>\n",
              "  .colab-df-quickchart {\n",
              "      --bg-color: #E8F0FE;\n",
              "      --fill-color: #1967D2;\n",
              "      --hover-bg-color: #E2EBFA;\n",
              "      --hover-fill-color: #174EA6;\n",
              "      --disabled-fill-color: #AAA;\n",
              "      --disabled-bg-color: #DDD;\n",
              "  }\n",
              "\n",
              "  [theme=dark] .colab-df-quickchart {\n",
              "      --bg-color: #3B4455;\n",
              "      --fill-color: #D2E3FC;\n",
              "      --hover-bg-color: #434B5C;\n",
              "      --hover-fill-color: #FFFFFF;\n",
              "      --disabled-bg-color: #3B4455;\n",
              "      --disabled-fill-color: #666;\n",
              "  }\n",
              "\n",
              "  .colab-df-quickchart {\n",
              "    background-color: var(--bg-color);\n",
              "    border: none;\n",
              "    border-radius: 50%;\n",
              "    cursor: pointer;\n",
              "    display: none;\n",
              "    fill: var(--fill-color);\n",
              "    height: 32px;\n",
              "    padding: 0;\n",
              "    width: 32px;\n",
              "  }\n",
              "\n",
              "  .colab-df-quickchart:hover {\n",
              "    background-color: var(--hover-bg-color);\n",
              "    box-shadow: 0 1px 2px rgba(60, 64, 67, 0.3), 0 1px 3px 1px rgba(60, 64, 67, 0.15);\n",
              "    fill: var(--button-hover-fill-color);\n",
              "  }\n",
              "\n",
              "  .colab-df-quickchart-complete:disabled,\n",
              "  .colab-df-quickchart-complete:disabled:hover {\n",
              "    background-color: var(--disabled-bg-color);\n",
              "    fill: var(--disabled-fill-color);\n",
              "    box-shadow: none;\n",
              "  }\n",
              "\n",
              "  .colab-df-spinner {\n",
              "    border: 2px solid var(--fill-color);\n",
              "    border-color: transparent;\n",
              "    border-bottom-color: var(--fill-color);\n",
              "    animation:\n",
              "      spin 1s steps(1) infinite;\n",
              "  }\n",
              "\n",
              "  @keyframes spin {\n",
              "    0% {\n",
              "      border-color: transparent;\n",
              "      border-bottom-color: var(--fill-color);\n",
              "      border-left-color: var(--fill-color);\n",
              "    }\n",
              "    20% {\n",
              "      border-color: transparent;\n",
              "      border-left-color: var(--fill-color);\n",
              "      border-top-color: var(--fill-color);\n",
              "    }\n",
              "    30% {\n",
              "      border-color: transparent;\n",
              "      border-left-color: var(--fill-color);\n",
              "      border-top-color: var(--fill-color);\n",
              "      border-right-color: var(--fill-color);\n",
              "    }\n",
              "    40% {\n",
              "      border-color: transparent;\n",
              "      border-right-color: var(--fill-color);\n",
              "      border-top-color: var(--fill-color);\n",
              "    }\n",
              "    60% {\n",
              "      border-color: transparent;\n",
              "      border-right-color: var(--fill-color);\n",
              "    }\n",
              "    80% {\n",
              "      border-color: transparent;\n",
              "      border-right-color: var(--fill-color);\n",
              "      border-bottom-color: var(--fill-color);\n",
              "    }\n",
              "    90% {\n",
              "      border-color: transparent;\n",
              "      border-bottom-color: var(--fill-color);\n",
              "    }\n",
              "  }\n",
              "</style>\n",
              "\n",
              "      <script>\n",
              "        async function quickchart(key) {\n",
              "          const quickchartButtonEl =\n",
              "            document.querySelector('#' + key + ' button');\n",
              "          quickchartButtonEl.disabled = true;  // To prevent multiple clicks.\n",
              "          quickchartButtonEl.classList.add('colab-df-spinner');\n",
              "          try {\n",
              "            const charts = await google.colab.kernel.invokeFunction(\n",
              "                'suggestCharts', [key], {});\n",
              "          } catch (error) {\n",
              "            console.error('Error during call to suggestCharts:', error);\n",
              "          }\n",
              "          quickchartButtonEl.classList.remove('colab-df-spinner');\n",
              "          quickchartButtonEl.classList.add('colab-df-quickchart-complete');\n",
              "        }\n",
              "        (() => {\n",
              "          let quickchartButtonEl =\n",
              "            document.querySelector('#df-5fbd414b-3251-41dc-b3f6-4d7620dea425 button');\n",
              "          quickchartButtonEl.style.display =\n",
              "            google.colab.kernel.accessAllowed ? 'block' : 'none';\n",
              "        })();\n",
              "      </script>\n",
              "    </div>\n",
              "    </div>\n",
              "  </div>\n"
            ],
            "application/vnd.google.colaboratory.intrinsic+json": {
              "type": "dataframe",
              "variable_name": "subset_df",
              "summary": "{\n  \"name\": \"subset_df\",\n  \"rows\": 15,\n  \"fields\": [\n    {\n      \"column\": \"id\",\n      \"properties\": {\n        \"dtype\": \"string\",\n        \"num_unique_values\": 15,\n        \"samples\": [\n          \"9\",\n          \"11\",\n          \"0\"\n        ],\n        \"semantic_type\": \"\",\n        \"description\": \"\"\n      }\n    },\n    {\n      \"column\": \"text_no_spaces\",\n      \"properties\": {\n        \"dtype\": \"string\",\n        \"num_unique_values\": 15,\n        \"samples\": [\n          \"\\u043a\\u0443\\u043f\\u043b\\u044e\\u043d\\u043e\\u0443\\u0442\\u0431\\u0443\\u043aHP\",\n          \"\\u043d\\u043e\\u0432\\u0430\\u044f\\u043c\\u0438\\u043a\\u0440\\u043e\\u0432\\u043e\\u043b\\u043d\\u043e\\u0432\\u043a\\u0430Samsung\",\n          \"\\u043a\\u0443\\u043f\\u043b\\u044e\\u0430\\u0439\\u0444\\u043e\\u043d14\\u043f\\u0440\\u043e\"\n        ],\n        \"semantic_type\": \"\",\n        \"description\": \"\"\n      }\n    },\n    {\n      \"column\": \"predicted_positions\",\n      \"properties\": {\n        \"dtype\": \"string\",\n        \"num_unique_values\": 14,\n        \"samples\": [\n          \"[5, 12]\",\n          \"[7, 13]\",\n          \"[]\"\n        ],\n        \"semantic_type\": \"\",\n        \"description\": \"\"\n      }\n    }\n  ]\n}"
            }
          },
          "metadata": {},
          "execution_count": 78
        }
      ]
    },
    {
      "cell_type": "code",
      "source": [
        "# Предсказание для всего набора данных\n",
        "df['predicted_positions'] = df['text_no_spaces'].apply(predict_positions)\n",
        "df.to_csv('submission.csv', index=False)"
      ],
      "metadata": {
        "id": "oiC2XwrZK2hU"
      },
      "execution_count": 79,
      "outputs": []
    },
    {
      "cell_type": "markdown",
      "source": [
        "Этот метод решения давал лучшие результаты, но также был реализован алгоритм динамического программирования с использованием информации только о частотах.\n",
        "Для алгоритма с использованием модели из Huggingface f1-мера получилась равной 64.171% , а для алгоритма динамического программирования 44.838%. Ссылка на решение с более быстрой, но худшей по качеству программой: https://github.com/nlpgirl/avito_staj/blob/main/dynamic_programming.ipynb"
      ],
      "metadata": {
        "id": "EwxLyguJYupi"
      }
    }
  ]
}